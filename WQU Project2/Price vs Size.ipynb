{
 "cells": [
  {
   "cell_type": "markdown",
   "source": [
    "Predicting Price with Size"
   ],
   "metadata": {
    "collapsed": false,
    "pycharm": {
     "name": "#%% md\n"
    }
   }
  },
  {
   "cell_type": "code",
   "execution_count": null,
   "outputs": [],
   "source": [
    "import warnings\n",
    "\n",
    "import matplotlib.pyplot as plt\n",
    "import pandas as pd\n",
    "from sklearn.linear_model import LinearRegression\n",
    "from sklearn.metrics import mean_absolute_error\n",
    "\n",
    "warnings.simplefilter(action=\"ignore\", category=FutureWarning)"
   ],
   "metadata": {
    "collapsed": false,
    "pycharm": {
     "name": "#%%\n"
    }
   }
  },
  {
   "cell_type": "markdown",
   "source": [
    "Task 2.1.1: Write a function named wrangle that takes a file path as an argument and returns a DataFrame."
   ],
   "metadata": {
    "collapsed": false,
    "pycharm": {
     "name": "#%% md\n"
    }
   }
  },
  {
   "cell_type": "code",
   "execution_count": null,
   "outputs": [],
   "source": [
    "def wrangle(filepath):\n",
    "    #Read CSV file into DataFrame\n",
    "    dfs = pd.read_csv(filepath)\n",
    "    mask_ba = dfs[\"place_with_parent_names\"].str.contains(\"Capital Federal\")\n",
    "    mask_apt = dfs[\"property_type\"] == \"apartment\"\n",
    "    mask_price = dfs[\"price_aprox_usd\"] < 400000\n",
    "    dfs = dfs[mask_ba & mask_apt & mask_price]\n",
    "    low, high = dfs[\"surface_covered_in_m2\"].quantile([0.1, 0.9])\n",
    "    mask_area = dfs[\"surface_covered_in_m2\"].between(low, high)\n",
    "    dfs = dfs[mask_area]\n",
    "    return dfs"
   ],
   "metadata": {
    "collapsed": false,
    "pycharm": {
     "name": "#%%\n"
    }
   }
  },
  {
   "cell_type": "markdown",
   "source": [
    "Task 2.1.2: Use your wrangle function to create a DataFrame df from the CSV file data/buenos-aires-real-estate-1.csv.\n",
    "Task 2.1.3: Add to your wrangle function so that the DataFrame it returns only includes apartments in Buenos Aires (\"Capital Federal\") that cost less than $400,000 USD. Then recreate df from data/buenos-aires-real-estate-1.csv by re-running the cells above."
   ],
   "metadata": {
    "collapsed": false,
    "pycharm": {
     "name": "#%% md\n"
    }
   }
  },
  {
   "cell_type": "code",
   "execution_count": null,
   "outputs": [],
   "source": [
    "df = wrangle(\"data/buenos-aires-real-estate-1.csv\")\n",
    "print(\"df shape:\", df.shape)\n",
    "df.head()"
   ],
   "metadata": {
    "collapsed": false,
    "pycharm": {
     "name": "#%%\n"
    }
   }
  },
  {
   "cell_type": "markdown",
   "source": [
    "Task 2.1.4: Create a histogram of \"surface_covered_in_m2\". Make sure that the x-axis has the label \"Area [sq meters]\" and the plot has the title \"Distribution of Apartment Sizes\"."
   ],
   "metadata": {
    "collapsed": false,
    "pycharm": {
     "name": "#%% md\n"
    }
   }
  },
  {
   "cell_type": "markdown",
   "source": [],
   "metadata": {
    "collapsed": false,
    "pycharm": {
     "name": "#%% md\n"
    }
   }
  },
  {
   "cell_type": "code",
   "execution_count": null,
   "outputs": [],
   "source": [
    "plt.hist(df[\"surface_covered_in_m2\"]);\n",
    "plt.xlabel(\"Area [sq meters]\")\n",
    "plt.title(\"Distribution of Apartment Sizes\")"
   ],
   "metadata": {
    "collapsed": false,
    "pycharm": {
     "name": "#%%\n"
    }
   }
  },
  {
   "cell_type": "markdown",
   "source": [
    "Task 2.1.5: Calculate the summary statistics for df using the describe method."
   ],
   "metadata": {
    "collapsed": false,
    "pycharm": {
     "name": "#%% md\n"
    }
   }
  },
  {
   "cell_type": "code",
   "execution_count": null,
   "outputs": [],
   "source": [
    "df.describe()[\"surface_covered_in_m2\"]"
   ],
   "metadata": {
    "collapsed": false,
    "pycharm": {
     "name": "#%%\n"
    }
   }
  },
  {
   "cell_type": "markdown",
   "source": [
    "Task 2.1.6: Add to your wrangle function so that it removes observations that are outliers in the \"surface_covered_in_m2\" column. Specifically, all observations should fall between the 0.1 and 0.9 quantiles for \"surface_covered_in_m2\"."
   ],
   "metadata": {
    "collapsed": false,
    "pycharm": {
     "name": "#%% md\n"
    }
   }
  },
  {
   "cell_type": "code",
   "execution_count": null,
   "outputs": [],
   "source": [
    "low, high = df[\"surface_covered_in_m2\"].quantile([0.1, 0.9])\n",
    "mask_area = df[\"surface_covered_in_m2\"].between(low,high)\n",
    "mask_area.head()"
   ],
   "metadata": {
    "collapsed": false,
    "pycharm": {
     "name": "#%%\n"
    }
   }
  },
  {
   "cell_type": "markdown",
   "source": [
    "Task 2.1.7: Create a scatter plot that shows price (\"price_aprox_usd\") vs area (\"surface_covered_in_m2\") in our dataset. Make sure to label your x-axis \"Area [sq meters]\" and your y-axis \"Price [USD]\"."
   ],
   "metadata": {
    "collapsed": false,
    "pycharm": {
     "name": "#%% md\n"
    }
   }
  },
  {
   "cell_type": "code",
   "execution_count": null,
   "outputs": [],
   "source": [
    "plt.scatter(x=df[\"surface_covered_in_m2\"], y=df[\"price_aprox_usd\"])\n",
    "\n",
    "\n",
    "# Label axes\n",
    "plt.xlabel(\"Area [sq meters]\")\n",
    "plt.ylabel(\"Price [USD]\")\n",
    "\n",
    "# Add title\n",
    "plt.title(\"Capital Federal: Price vs. Area\");\n",
    "\n",
    "CF = {\n",
    "    \"Capital Federal\": df[\"surface_covered_in_m2\"].corr(df[\"price_aprox_usd\"])\n",
    "\n",
    "}\n",
    "\n",
    "CF"
   ],
   "metadata": {
    "collapsed": false,
    "pycharm": {
     "name": "#%%\n"
    }
   }
  },
  {
   "cell_type": "markdown",
   "source": [
    "Task 2.1.8: Create the feature matrix named X_train, which you'll use to train your model. It should contain one feature only: [\"surface_covered_in_m2\"]. Remember that your feature matrix should always be two-dimensional."
   ],
   "metadata": {
    "collapsed": false,
    "pycharm": {
     "name": "#%% md\n"
    }
   }
  },
  {
   "cell_type": "code",
   "execution_count": null,
   "outputs": [],
   "source": [
    "features = [\"surface_covered_in_m2\"]\n",
    "X_train = df[features]\n",
    "X_train.head()"
   ],
   "metadata": {
    "collapsed": false,
    "pycharm": {
     "name": "#%%\n"
    }
   }
  },
  {
   "cell_type": "markdown",
   "source": [
    "Task 2.1.9: Create the target vector named y_train, which you'll use to train your model. Your target should be \"price_aprox_usd\". Remember that, in most cases, your target vector should be one-dimensional."
   ],
   "metadata": {
    "collapsed": false,
    "pycharm": {
     "name": "#%% md\n"
    }
   }
  },
  {
   "cell_type": "code",
   "execution_count": null,
   "outputs": [],
   "source": [
    "target = \"price_aprox_usd\"\n",
    "y_train = df[target]\n",
    "y_train.head()"
   ],
   "metadata": {
    "collapsed": false,
    "pycharm": {
     "name": "#%%\n"
    }
   }
  },
  {
   "cell_type": "markdown",
   "source": [
    "Task 2.1.10: Calculate the mean of your target vector y_train and assign it to the variable y_mean."
   ],
   "metadata": {
    "collapsed": false,
    "pycharm": {
     "name": "#%% md\n"
    }
   }
  },
  {
   "cell_type": "code",
   "execution_count": null,
   "outputs": [],
   "source": [
    "y_mean = y_train.mean()\n",
    "y_mean"
   ],
   "metadata": {
    "collapsed": false,
    "pycharm": {
     "name": "#%%\n"
    }
   }
  },
  {
   "cell_type": "markdown",
   "source": [
    "Task 2.1.11: Create a list named y_pred_baseline that contains the value of y_mean repeated so that it's the same length at y."
   ],
   "metadata": {
    "collapsed": false,
    "pycharm": {
     "name": "#%% md\n"
    }
   }
  },
  {
   "cell_type": "code",
   "execution_count": null,
   "outputs": [],
   "source": [
    "y_pred_baseline = [y_mean] * len(y_train)\n",
    "y_pred_baseline[:5]"
   ],
   "metadata": {
    "collapsed": false,
    "pycharm": {
     "name": "#%%\n"
    }
   }
  },
  {
   "cell_type": "markdown",
   "source": [
    "Task 2.1.12: Add a line to the plot below that shows the relationship between the observations X_train and our dumb model's predictions y_pred_baseline. Be sure that the line color is orange, and that it has the label \"Baseline Model\"."
   ],
   "metadata": {
    "collapsed": false,
    "pycharm": {
     "name": "#%% md\n"
    }
   }
  },
  {
   "cell_type": "code",
   "execution_count": null,
   "outputs": [],
   "source": [
    "plt.plot(X_train.values, y_pred_baseline, color=\"orange\", label=\"Baseline Model\")\n",
    "\n",
    "plt.scatter(X_train, y_train)\n",
    "plt.xlabel(\"Area [sq meters]\")\n",
    "plt.ylabel(\"Price [USD]\")\n",
    "plt.title(\"Buenos Aires: Price vs. Area\")\n",
    "plt.legend();"
   ],
   "metadata": {
    "collapsed": false,
    "pycharm": {
     "name": "#%%\n"
    }
   }
  },
  {
   "cell_type": "markdown",
   "source": [
    "Task 2.1.13: Calculate the baseline mean absolute error for your predictions in y_pred_baseline as compared to the true targets in y."
   ],
   "metadata": {
    "collapsed": false,
    "pycharm": {
     "name": "#%% md\n"
    }
   }
  },
  {
   "cell_type": "code",
   "execution_count": null,
   "outputs": [],
   "source": [
    "mae_baseline = mean_absolute_error(y_train, y_pred_baseline)\n",
    "\n",
    "print(\"Mean apt price\", round(y_mean, 2))\n",
    "print(\"Baseline MAE:\", round(mae_baseline, 2))"
   ],
   "metadata": {
    "collapsed": false,
    "pycharm": {
     "name": "#%%\n"
    }
   }
  },
  {
   "cell_type": "markdown",
   "source": [
    "Task 2.1.14: Instantiate a LinearRegression model named model.\n",
    "Task 2.1.15: Fit your model to the data, X_train and y_train."
   ],
   "metadata": {
    "collapsed": false,
    "pycharm": {
     "name": "#%% md\n"
    }
   }
  },
  {
   "cell_type": "code",
   "execution_count": null,
   "outputs": [],
   "source": [
    "model = LinearRegression()\n",
    "model.fit(X_train, y_train)"
   ],
   "metadata": {
    "collapsed": false,
    "pycharm": {
     "name": "#%%\n"
    }
   }
  },
  {
   "cell_type": "markdown",
   "source": [
    "Task 2.1.16: Using your model's predict method, create a list of predictions for the observations in your feature matrix X_train. Name this array y_pred_training."
   ],
   "metadata": {
    "collapsed": false,
    "pycharm": {
     "name": "#%% md\n"
    }
   }
  },
  {
   "cell_type": "code",
   "execution_count": null,
   "outputs": [],
   "source": [
    "y_pred_training = model.predict(X_train)\n",
    "y_pred_training[:5]"
   ],
   "metadata": {
    "collapsed": false,
    "pycharm": {
     "name": "#%%\n"
    }
   }
  },
  {
   "cell_type": "markdown",
   "source": [
    "Task 2.1.17: Calculate your training mean absolute error for your predictions in y_pred_training as compared to the true targets in y_train."
   ],
   "metadata": {
    "collapsed": false,
    "pycharm": {
     "name": "#%% md\n"
    }
   }
  },
  {
   "cell_type": "code",
   "execution_count": null,
   "outputs": [],
   "source": [
    "mae_training = mean_absolute_error(y_train, y_pred_training)\n",
    "print(\"Training MAE:\", round(mae_training, 2))"
   ],
   "metadata": {
    "collapsed": false,
    "pycharm": {
     "name": "#%%\n"
    }
   }
  },
  {
   "cell_type": "markdown",
   "source": [
    "Task 2.1.18: Run the code below to import your test data buenos-aires-test-features.csv into a DataFrame and generate a Series of predictions using your model."
   ],
   "metadata": {
    "collapsed": false,
    "pycharm": {
     "name": "#%% md\n"
    }
   }
  },
  {
   "cell_type": "code",
   "execution_count": null,
   "outputs": [],
   "source": [
    "X_test = pd.read_csv(\"data/buenos-aires-test-features.csv\")[features]\n",
    "y_pred_test = pd.Series(model.predict(X_test))\n",
    "y_pred_test.head()"
   ],
   "metadata": {
    "collapsed": false,
    "pycharm": {
     "name": "#%%\n"
    }
   }
  },
  {
   "cell_type": "markdown",
   "source": [
    "Task 2.1.19: Extract the intercept from your model, and assign it to the variable intercept."
   ],
   "metadata": {
    "collapsed": false,
    "pycharm": {
     "name": "#%% md\n"
    }
   }
  },
  {
   "cell_type": "code",
   "execution_count": null,
   "outputs": [],
   "source": [
    "intercept = round(model.intercept_, 2)\n",
    "print(\"Model Intercept:\", intercept)"
   ],
   "metadata": {
    "collapsed": false,
    "pycharm": {
     "name": "#%%\n"
    }
   }
  },
  {
   "cell_type": "markdown",
   "source": [
    "Task 2.1.20: Extract the coefficient associated \"surface_covered_in_m2\" in your model, and assign it to the variable coefficient."
   ],
   "metadata": {
    "collapsed": false,
    "pycharm": {
     "name": "#%% md\n"
    }
   }
  },
  {
   "cell_type": "code",
   "execution_count": null,
   "outputs": [],
   "source": [
    "coefficient = round(model.coef_[0], 2)\n",
    "print('Model coefficient for \"surface_covered_in_m2\":', coefficient)\n"
   ],
   "metadata": {
    "collapsed": false,
    "pycharm": {
     "name": "#%%\n"
    }
   }
  },
  {
   "cell_type": "markdown",
   "source": [
    "Task 2.1.21: Complete the code below and run the cell to print the equation that your model has determined for predicting apartment price based on size."
   ],
   "metadata": {
    "collapsed": false,
    "pycharm": {
     "name": "#%% md\n"
    }
   }
  },
  {
   "cell_type": "code",
   "execution_count": null,
   "outputs": [],
   "source": [
    "print(f\"The equation of the model is: {intercept} + {coefficient}x\")"
   ],
   "metadata": {
    "collapsed": false,
    "pycharm": {
     "name": "#%%\n"
    }
   }
  },
  {
   "cell_type": "markdown",
   "source": [
    "Task 2.1.22: Add a line to the plot below that shows the relationship between the observations in X_train and your model's predictions y_pred_training. Be sure that the line color is red, and that it has the label \"Linear Model\"."
   ],
   "metadata": {
    "collapsed": false,
    "pycharm": {
     "name": "#%% md\n"
    }
   }
  },
  {
   "cell_type": "code",
   "execution_count": null,
   "outputs": [],
   "source": [
    "plt.plot(X_train.values, model.predict(X_train), color=\"r\", label=\"Linear Model\")\n",
    "plt.scatter(X_train, y_train)\n",
    "plt.xlabel(\"surface covered [sq meters]\")\n",
    "plt.ylabel(\"price [usd]\")\n",
    "plt.legend();"
   ],
   "metadata": {
    "collapsed": false,
    "pycharm": {
     "name": "#%%\n"
    }
   }
  }
 ],
 "metadata": {
  "kernelspec": {
   "display_name": "Python 3",
   "language": "python",
   "name": "python3"
  },
  "language_info": {
   "codemirror_mode": {
    "name": "ipython",
    "version": 2
   },
   "file_extension": ".py",
   "mimetype": "text/x-python",
   "name": "python",
   "nbconvert_exporter": "python",
   "pygments_lexer": "ipython2",
   "version": "2.7.6"
  }
 },
 "nbformat": 4,
 "nbformat_minor": 0
}