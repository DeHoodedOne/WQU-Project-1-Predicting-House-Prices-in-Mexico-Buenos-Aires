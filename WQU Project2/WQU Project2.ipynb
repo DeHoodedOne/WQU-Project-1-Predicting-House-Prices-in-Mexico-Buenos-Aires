{
 "cells": [
  {
   "cell_type": "code",
   "execution_count": null,
   "metadata": {
    "collapsed": true,
    "pycharm": {
     "name": "#%%\n"
    }
   },
   "outputs": [],
   "source": [
    "import warnings\n",
    "from glob import glob\n",
    "import pandas as pd\n",
    "import matplotlib.pyplot as plt\n",
    "import plotly.express as px\n",
    "from category_encoders import OneHotEncoder\n",
    "from sklearn.linear_model import LinearRegression, Ridge  # noqa\n",
    "from sklearn.metrics import mean_absolute_error\n",
    "from sklearn.impute import SimpleImputer\n",
    "from sklearn.pipeline import make_pipeline\n",
    "warnings.simplefilter(action=\"ignore\", category=FutureWarning)"
   ]
  },
  {
   "cell_type": "markdown",
   "source": [
    "Task 2.5.1: Write a wrangle function that takes the name of a CSV file as input and returns a DataFrame. The function should do the following steps:\n",
    "\n",
    "Subset the data in the CSV file and return only apartments in Mexico City (\"Distrito Federal\") that cost less than $100,000.\n",
    "Remove outliers by trimming the bottom and top 10% of properties in terms of \"surface_covered_in_m2\".\n",
    "Create separate \"lat\" and \"lon\" columns.\n",
    "Mexico City is divided into 15 boroughs. Create a \"borough\" feature from the \"place_with_parent_names\" column.\n",
    "Drop columns that are more than 50% null values.\n",
    "Drop columns containing low- or high-cardinality categorical values.\n",
    "Drop any columns that would constitute leakage for the target \"price_aprox_usd\".\n",
    "Drop any columns that would create issues of multicollinearity."
   ],
   "metadata": {
    "collapsed": false,
    "pycharm": {
     "name": "#%% md\n"
    }
   }
  },
  {
   "cell_type": "code",
   "execution_count": null,
   "outputs": [],
   "source": [
    "# Build your `wrangle` function\n",
    "def wrangle(filepath):\n",
    "    #Read CSV file into DataFrame\n",
    "    dfs = pd.read_csv(filepath)\n",
    "    mask_ba = dfs[\"place_with_parent_names\"].str.contains(\"Distrito Federal\")\n",
    "    mask_apt = dfs[\"property_type\"] == \"apartment\"\n",
    "    mask_price = dfs[\"price_aprox_usd\"] < 100000\n",
    "    dfs = dfs[mask_ba & mask_apt & mask_price]\n",
    "\n",
    "    low, high = dfs[\"surface_covered_in_m2\"].quantile([0.1, 0.9])\n",
    "    mask_area = dfs[\"surface_covered_in_m2\"].between(low, high)\n",
    "    dfs = dfs[mask_area]\n",
    "\n",
    "    dfs[[\"lat\", \"lon\"]] = dfs[\"lat-lon\"].str.split(\",\", expand=True).astype(float)\n",
    "    dfs.drop(columns=\"lat-lon\", inplace=True)\n",
    "\n",
    "    dfs[\"borough\"] = dfs[\"place_with_parent_names\"].str.split(\"|\", expand=True)[1]\n",
    "    dfs.drop(columns=\"place_with_parent_names\", inplace=True)\n",
    "\n",
    "    dfs.drop(columns=[\"floor\", \"expenses\", \"rooms\", \"price_usd_per_m2\", \"surface_total_in_m2\"], inplace=True)\n",
    "\n",
    "    dfs.drop(columns=[\"operation\", \"property_type\", \"currency\", \"properati_url\"], inplace=True)\n",
    "\n",
    "    dfs.drop(columns=[\n",
    "        'price',\n",
    "        'price_aprox_local_currency',\n",
    "        'price_per_m2'\n",
    "    ], inplace=True)\n",
    "\n",
    "    return dfs\n"
   ],
   "metadata": {
    "collapsed": false,
    "pycharm": {
     "name": "#%%\n"
    }
   }
  },
  {
   "cell_type": "markdown",
   "source": [
    "Task 2.5.2: Use glob to create the list files. It should contain the filenames of all the Mexico City real estate CSVs in the ./data directory, except for mexico-city-test-features.csv."
   ],
   "metadata": {
    "collapsed": false,
    "pycharm": {
     "name": "#%% md\n"
    }
   }
  },
  {
   "cell_type": "code",
   "execution_count": null,
   "outputs": [],
   "source": [
    "files = glob(\"data/mexico-city-real-estate-*.csv\")\n",
    "files"
   ],
   "metadata": {
    "collapsed": false,
    "pycharm": {
     "name": "#%%\n"
    }
   }
  },
  {
   "cell_type": "markdown",
   "source": [
    "Task 2.5.3: Combine your wrangle function, a list comprehension, and pd.concat to create a DataFrame df. It should contain all the properties from the five CSVs in files."
   ],
   "metadata": {
    "collapsed": false,
    "pycharm": {
     "name": "#%% md\n"
    }
   }
  },
  {
   "cell_type": "code",
   "execution_count": null,
   "outputs": [],
   "source": [
    "df = pd.concat([wrangle(file) for file in files], ignore_index=True)\n",
    "print(df.info())\n",
    "df.head()"
   ],
   "metadata": {
    "collapsed": false,
    "pycharm": {
     "name": "#%%\n"
    }
   }
  },
  {
   "cell_type": "markdown",
   "source": [
    "Task 2.5.4: Create a histogram showing the distribution of apartment prices (\"price_aprox_usd\") in df. Be sure to label the x-axis \"Price [$]\", the y-axis \"Count\", and give it the title \"Distribution of Apartment Prices\". Use Matplotlib (plt)."
   ],
   "metadata": {
    "collapsed": false,
    "pycharm": {
     "name": "#%% md\n"
    }
   }
  },
  {
   "cell_type": "code",
   "execution_count": null,
   "outputs": [],
   "source": [
    "# Build histogram\n",
    "\n",
    "plt.hist(df[\"price_aprox_usd\"])\n",
    "\n",
    "\n",
    "# Label axes\n",
    "plt.xlabel(\"Price [$]\")\n",
    "plt.ylabel(\"Count\")\n",
    "\n",
    "# Add title\n",
    "plt.title(\"Distribution of Apartment Prices\")\n",
    "\n",
    "# Don't delete the code below 👇\n",
    "plt.savefig(\"images/2-5-4.png\", dpi=150)"
   ],
   "metadata": {
    "collapsed": false,
    "pycharm": {
     "name": "#%%\n"
    }
   }
  },
  {
   "cell_type": "markdown",
   "source": [
    "Task 2.5.5: Create a scatter plot that shows apartment price (\"price_aprox_usd\") as a function of apartment size (\"surface_covered_in_m2\"). Be sure to label your x-axis \"Area [sq meters]\" and y-axis \"Price [USD]\". Your plot should have the title \"Mexico City: Price vs. Area\". Use Matplotlib (plt)."
   ],
   "metadata": {
    "collapsed": false,
    "pycharm": {
     "name": "#%% md\n"
    }
   }
  },
  {
   "cell_type": "code",
   "execution_count": null,
   "outputs": [],
   "source": [
    "# Build scatter plot\n",
    "plt.scatter(x=df[\"surface_covered_in_m2\"], y=df[\"price_aprox_usd\"])\n",
    "\n",
    "\n",
    "# Label axes\n",
    "plt.xlabel(\"Area [sq meters]\")\n",
    "plt.ylabel(\"Price [USD]\")\n",
    "\n",
    "# Add title\n",
    "plt.title(\"Mexico City: Price vs. Area\")\n",
    "\n",
    "\n",
    "# Don't delete the code below 👇\n",
    "plt.savefig(\"images/2-5-5.png\", dpi=150)\n"
   ],
   "metadata": {
    "collapsed": false,
    "pycharm": {
     "name": "#%%\n"
    }
   }
  },
  {
   "cell_type": "markdown",
   "source": [
    "Task 2.5.6: Create a Mapbox scatter plot that shows the location of the apartments in your dataset and represent their price using color."
   ],
   "metadata": {
    "collapsed": false,
    "pycharm": {
     "name": "#%% md\n"
    }
   }
  },
  {
   "cell_type": "code",
   "execution_count": null,
   "outputs": [],
   "source": [
    "# Plot Mapbox location and price\n",
    "fig = px.scatter_mapbox(\n",
    "    df,\n",
    "    lat=\"lat\",\n",
    "    lon=\"lon\",\n",
    "    width=600,\n",
    "    height=600,\n",
    "    color=\"price_aprox_usd\",\n",
    "    hover_data=[\"price_aprox_usd\"]\n",
    ")\n",
    "\n",
    "fig.update_layout(mapbox_style=\"open-street-map\")\n",
    "\n",
    "fig.show()"
   ],
   "metadata": {
    "collapsed": false,
    "pycharm": {
     "name": "#%%\n"
    }
   }
  },
  {
   "cell_type": "markdown",
   "source": [
    "Task 2.5.7: Create your feature matrix X_train and target vector y_train. Your target is \"price_aprox_usd\". Your features should be all the columns that remain in the DataFrame you cleaned above."
   ],
   "metadata": {
    "collapsed": false,
    "pycharm": {
     "name": "#%% md\n"
    }
   }
  },
  {
   "cell_type": "code",
   "execution_count": null,
   "outputs": [],
   "source": [
    "# Split data into feature matrix `X_train` and target vector `y_train`.\n",
    "target = \"price_aprox_usd\"\n",
    "features = [\"surface_covered_in_m2\", \"lat\", \"lon\", \"borough\"]\n",
    "X_train = df[features]\n",
    "y_train = df[target]"
   ],
   "metadata": {
    "collapsed": false,
    "pycharm": {
     "name": "#%%\n"
    }
   }
  },
  {
   "cell_type": "markdown",
   "source": [
    "\n",
    "Task 2.5.8: Calculate the baseline mean absolute error for your model."
   ],
   "metadata": {
    "collapsed": false,
    "pycharm": {
     "name": "#%% md\n"
    }
   }
  },
  {
   "cell_type": "code",
   "execution_count": null,
   "outputs": [],
   "source": [
    "y_mean = y_train.mean()\n",
    "y_pred_baseline = [y_mean] * len(y_train)\n",
    "baseline_mae = mean_absolute_error(y_train, y_pred_baseline)\n",
    "print(\"Mean apt price:\", y_mean)\n",
    "print(\"Baseline MAE:\", baseline_mae)"
   ],
   "metadata": {
    "collapsed": false,
    "pycharm": {
     "name": "#%%\n"
    }
   }
  },
  {
   "cell_type": "markdown",
   "source": [
    "Task 2.5.9: Create a pipeline named model that contains all the transformers necessary for this dataset and one of the predictors you've used during this project. Then fit your model to the training data."
   ],
   "metadata": {
    "collapsed": false,
    "pycharm": {
     "name": "#%% md\n"
    }
   }
  },
  {
   "cell_type": "code",
   "execution_count": null,
   "outputs": [],
   "source": [
    "# Build Model\n",
    "model = make_pipeline(OneHotEncoder(use_cat_names=True), SimpleImputer(), Ridge())\n",
    "\n",
    "# Fit model\n",
    "model.fit(X_train, y_train)"
   ],
   "metadata": {
    "collapsed": false,
    "pycharm": {
     "name": "#%%\n"
    }
   }
  },
  {
   "cell_type": "markdown",
   "source": [
    "Task 2.5.10: Read the CSV file mexico-city-test-features.csv into the DataFrame X_test."
   ],
   "metadata": {
    "collapsed": false,
    "pycharm": {
     "name": "#%% md\n"
    }
   }
  },
  {
   "cell_type": "code",
   "execution_count": null,
   "outputs": [],
   "source": [
    "X_test = pd.read_csv(\"data/mexico-city-test-features.csv\")\n",
    "print(X_test.info())\n",
    "X_test.head()"
   ],
   "metadata": {
    "collapsed": false,
    "pycharm": {
     "name": "#%%\n"
    }
   }
  },
  {
   "cell_type": "markdown",
   "source": [
    "Task 2.5.11: Use your model to generate a Series of predictions for X_test. When you submit your predictions to the grader, it will calculate the mean absolute error for your model."
   ],
   "metadata": {
    "collapsed": false,
    "pycharm": {
     "name": "#%% md\n"
    }
   }
  },
  {
   "cell_type": "code",
   "execution_count": null,
   "outputs": [],
   "source": [
    "y_test_pred = pd.Series(model.predict(X_test))\n",
    "y_test_pred.head()"
   ],
   "metadata": {
    "collapsed": false,
    "pycharm": {
     "name": "#%%\n"
    }
   }
  },
  {
   "cell_type": "markdown",
   "source": [
    "Task 2.5.12: Create a Series named feat_imp. The index should contain the names of all the features your model considers when making predictions; the values should be the coefficient values associated with each feature. The Series should be sorted ascending by absolute value."
   ],
   "metadata": {
    "collapsed": false,
    "pycharm": {
     "name": "#%% md\n"
    }
   }
  },
  {
   "cell_type": "code",
   "execution_count": null,
   "outputs": [],
   "source": [
    "coefficients = model.named_steps[\"ridge\"].coef_\n",
    "features = model.named_steps[\"onehotencoder\"].get_feature_names()\n",
    "feat_imp = pd.Series(coefficients, index=features).sort_values(key=abs)\n",
    "feat_imp"
   ],
   "metadata": {
    "collapsed": false,
    "pycharm": {
     "name": "#%%\n"
    }
   }
  },
  {
   "cell_type": "markdown",
   "source": [
    "Task 2.5.13: Create a horizontal bar chart that shows the 10 most influential coefficients for your model. Be sure to label your x- and y-axis \"Importance [USD]\" and \"Feature\", respectively, and give your chart the title \"Feature Importances for Apartment Price\". Use pandas."
   ],
   "metadata": {
    "collapsed": false,
    "pycharm": {
     "name": "#%% md\n"
    }
   }
  },
  {
   "cell_type": "code",
   "execution_count": null,
   "outputs": [],
   "source": [
    "# Build bar chart\n",
    "feat_imp.tail(10).plot(kind=\"barh\")\n",
    "\n",
    "\n",
    "# Label axes\n",
    "plt.xlabel(\"Importance [USD]\")\n",
    "plt.ylabel(\"Feature\")\n",
    "\n",
    "# Add title\n",
    "plt.title(\"Feature Importance for Apartment Price\")\n",
    "\n",
    "\n",
    "# Don't delete the code below 👇\n",
    "plt.savefig(\"images/2-5-13.png\", dpi=150)"
   ],
   "metadata": {
    "collapsed": false,
    "pycharm": {
     "name": "#%%\n"
    }
   }
  }
 ],
 "metadata": {
  "kernelspec": {
   "display_name": "Python 3",
   "language": "python",
   "name": "python3"
  },
  "language_info": {
   "codemirror_mode": {
    "name": "ipython",
    "version": 2
   },
   "file_extension": ".py",
   "mimetype": "text/x-python",
   "name": "python",
   "nbconvert_exporter": "python",
   "pygments_lexer": "ipython2",
   "version": "2.7.6"
  }
 },
 "nbformat": 4,
 "nbformat_minor": 0
}